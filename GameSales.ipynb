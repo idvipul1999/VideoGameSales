{
 "cells": [
  {
   "cell_type": "markdown",
   "metadata": {
    "id": "ehxB-b6r3fvp"
   },
   "source": [
    "<p><h2 style=\"font-family: 'Roboto', sans-serif;color:#2e2a6b;\">VIDEO GAMES SALES PREDICTION</h2></p>\n"
   ]
  },
  {
   "cell_type": "markdown",
   "metadata": {
    "id": "r5-c7PMO3fvt"
   },
   "source": [
    "<p><h2 style=\"font-family: 'Roboto', sans-serif;color:#2e2a6b;\">VIDEO GAME SALES PREDICTION USING SUPERVISED ALGORITHMS - Video Game Sales</h2></p>"
   ]
  },
  {
   "cell_type": "code",
   "execution_count": 1,
   "metadata": {
    "id": "s0K8e6TA3fvv"
   },
   "outputs": [],
   "source": [
    "# importing libraries\n",
    "\n",
    "import numpy as np # linear algebra\n",
    "import pandas as pd # data processing"
   ]
  },
  {
   "cell_type": "code",
   "execution_count": 2,
   "metadata": {
    "colab": {
     "base_uri": "https://localhost:8080/",
     "height": 73,
     "resources": {
      "http://localhost:8080/nbextensions/google.colab/files.js": {
       "data": "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",
       "headers": [
        [
         "content-type",
         "application/javascript"
        ]
       ],
       "ok": true,
       "status": 200,
       "status_text": ""
      }
     }
    },
    "id": "7lW1yjW85kEC",
    "outputId": "96958450-d2f3-4d8c-871a-15fa9669b8c6"
   },
   "outputs": [],
   "source": [
    "# from google.colab import files\n",
    "# uploaded = files.upload()"
   ]
  },
  {
   "cell_type": "code",
   "execution_count": 3,
   "metadata": {
    "id": "uSbl7A-V3fvw"
   },
   "outputs": [],
   "source": [
    "# reading csv file\n",
    "dataframe = pd.read_csv('vgsales.csv');"
   ]
  },
  {
   "cell_type": "code",
   "execution_count": 4,
   "metadata": {
    "colab": {
     "base_uri": "https://localhost:8080/",
     "height": 195
    },
    "id": "ugt7KiIa3fvx",
    "outputId": "172dad37-cb89-40b9-f89f-cd35470a4109"
   },
   "outputs": [
    {
     "data": {
      "text/html": [
       "<div>\n",
       "<style scoped>\n",
       "    .dataframe tbody tr th:only-of-type {\n",
       "        vertical-align: middle;\n",
       "    }\n",
       "\n",
       "    .dataframe tbody tr th {\n",
       "        vertical-align: top;\n",
       "    }\n",
       "\n",
       "    .dataframe thead th {\n",
       "        text-align: right;\n",
       "    }\n",
       "</style>\n",
       "<table border=\"1\" class=\"dataframe\">\n",
       "  <thead>\n",
       "    <tr style=\"text-align: right;\">\n",
       "      <th></th>\n",
       "      <th>Rank</th>\n",
       "      <th>Name</th>\n",
       "      <th>Platform</th>\n",
       "      <th>Year</th>\n",
       "      <th>Genre</th>\n",
       "      <th>Publisher</th>\n",
       "      <th>NA_Sales</th>\n",
       "      <th>EU_Sales</th>\n",
       "      <th>JP_Sales</th>\n",
       "      <th>Other_Sales</th>\n",
       "      <th>Global_Sales</th>\n",
       "    </tr>\n",
       "  </thead>\n",
       "  <tbody>\n",
       "    <tr>\n",
       "      <th>0</th>\n",
       "      <td>1</td>\n",
       "      <td>Wii Sports</td>\n",
       "      <td>Wii</td>\n",
       "      <td>2006.0</td>\n",
       "      <td>Sports</td>\n",
       "      <td>Nintendo</td>\n",
       "      <td>41.49</td>\n",
       "      <td>29.02</td>\n",
       "      <td>3.77</td>\n",
       "      <td>8.46</td>\n",
       "      <td>82.74</td>\n",
       "    </tr>\n",
       "    <tr>\n",
       "      <th>1</th>\n",
       "      <td>2</td>\n",
       "      <td>Super Mario Bros.</td>\n",
       "      <td>NES</td>\n",
       "      <td>1985.0</td>\n",
       "      <td>Platform</td>\n",
       "      <td>Nintendo</td>\n",
       "      <td>29.08</td>\n",
       "      <td>3.58</td>\n",
       "      <td>6.81</td>\n",
       "      <td>0.77</td>\n",
       "      <td>40.24</td>\n",
       "    </tr>\n",
       "    <tr>\n",
       "      <th>2</th>\n",
       "      <td>3</td>\n",
       "      <td>Mario Kart Wii</td>\n",
       "      <td>Wii</td>\n",
       "      <td>2008.0</td>\n",
       "      <td>Racing</td>\n",
       "      <td>Nintendo</td>\n",
       "      <td>15.85</td>\n",
       "      <td>12.88</td>\n",
       "      <td>3.79</td>\n",
       "      <td>3.31</td>\n",
       "      <td>35.82</td>\n",
       "    </tr>\n",
       "    <tr>\n",
       "      <th>3</th>\n",
       "      <td>4</td>\n",
       "      <td>Wii Sports Resort</td>\n",
       "      <td>Wii</td>\n",
       "      <td>2009.0</td>\n",
       "      <td>Sports</td>\n",
       "      <td>Nintendo</td>\n",
       "      <td>15.75</td>\n",
       "      <td>11.01</td>\n",
       "      <td>3.28</td>\n",
       "      <td>2.96</td>\n",
       "      <td>33.00</td>\n",
       "    </tr>\n",
       "    <tr>\n",
       "      <th>4</th>\n",
       "      <td>5</td>\n",
       "      <td>Pokemon Red/Pokemon Blue</td>\n",
       "      <td>GB</td>\n",
       "      <td>1996.0</td>\n",
       "      <td>Role-Playing</td>\n",
       "      <td>Nintendo</td>\n",
       "      <td>11.27</td>\n",
       "      <td>8.89</td>\n",
       "      <td>10.22</td>\n",
       "      <td>1.00</td>\n",
       "      <td>31.37</td>\n",
       "    </tr>\n",
       "  </tbody>\n",
       "</table>\n",
       "</div>"
      ],
      "text/plain": [
       "   Rank                      Name Platform    Year         Genre Publisher  \\\n",
       "0     1                Wii Sports      Wii  2006.0        Sports  Nintendo   \n",
       "1     2         Super Mario Bros.      NES  1985.0      Platform  Nintendo   \n",
       "2     3            Mario Kart Wii      Wii  2008.0        Racing  Nintendo   \n",
       "3     4         Wii Sports Resort      Wii  2009.0        Sports  Nintendo   \n",
       "4     5  Pokemon Red/Pokemon Blue       GB  1996.0  Role-Playing  Nintendo   \n",
       "\n",
       "   NA_Sales  EU_Sales  JP_Sales  Other_Sales  Global_Sales  \n",
       "0     41.49     29.02      3.77         8.46         82.74  \n",
       "1     29.08      3.58      6.81         0.77         40.24  \n",
       "2     15.85     12.88      3.79         3.31         35.82  \n",
       "3     15.75     11.01      3.28         2.96         33.00  \n",
       "4     11.27      8.89     10.22         1.00         31.37  "
      ]
     },
     "execution_count": 4,
     "metadata": {},
     "output_type": "execute_result"
    }
   ],
   "source": [
    "#printing first 5 rows \n",
    "dataframe.head()"
   ]
  },
  {
   "cell_type": "code",
   "execution_count": 5,
   "metadata": {
    "colab": {
     "base_uri": "https://localhost:8080/"
    },
    "id": "R8KUpXMg3fvz",
    "outputId": "5d3ec099-8f35-4916-be28-027bc7b3370c"
   },
   "outputs": [
    {
     "name": "stdout",
     "output_type": "stream",
     "text": [
      "<class 'pandas.core.frame.DataFrame'>\n",
      "RangeIndex: 16598 entries, 0 to 16597\n",
      "Data columns (total 11 columns):\n",
      " #   Column        Non-Null Count  Dtype  \n",
      "---  ------        --------------  -----  \n",
      " 0   Rank          16598 non-null  int64  \n",
      " 1   Name          16598 non-null  object \n",
      " 2   Platform      16598 non-null  object \n",
      " 3   Year          16327 non-null  float64\n",
      " 4   Genre         16598 non-null  object \n",
      " 5   Publisher     16540 non-null  object \n",
      " 6   NA_Sales      16598 non-null  float64\n",
      " 7   EU_Sales      16598 non-null  float64\n",
      " 8   JP_Sales      16598 non-null  float64\n",
      " 9   Other_Sales   16598 non-null  float64\n",
      " 10  Global_Sales  16598 non-null  float64\n",
      "dtypes: float64(6), int64(1), object(4)\n",
      "memory usage: 1.4+ MB\n"
     ]
    }
   ],
   "source": [
    "# dataset info and dtypes no need to change\n",
    "dataframe.info()"
   ]
  },
  {
   "cell_type": "code",
   "execution_count": 6,
   "metadata": {
    "colab": {
     "base_uri": "https://localhost:8080/"
    },
    "id": "JduiswhQ3fv0",
    "outputId": "48d6b946-905c-4fb2-a531-34c25b65bc45"
   },
   "outputs": [
    {
     "data": {
      "text/plain": [
       "(16598, 11)"
      ]
     },
     "execution_count": 6,
     "metadata": {},
     "output_type": "execute_result"
    }
   ],
   "source": [
    "# shape of dataset\n",
    "dataframe.shape"
   ]
  },
  {
   "cell_type": "code",
   "execution_count": 7,
   "metadata": {
    "colab": {
     "base_uri": "https://localhost:8080/"
    },
    "id": "0FLZpRBn3fv1",
    "outputId": "93eb0e0f-2261-420f-9a36-82edbf278168"
   },
   "outputs": [
    {
     "name": "stdout",
     "output_type": "stream",
     "text": [
      "Missing Values\n"
     ]
    },
    {
     "data": {
      "text/plain": [
       "Rank              0\n",
       "Name              0\n",
       "Platform          0\n",
       "Year            271\n",
       "Genre             0\n",
       "Publisher        58\n",
       "NA_Sales          0\n",
       "EU_Sales          0\n",
       "JP_Sales          0\n",
       "Other_Sales       0\n",
       "Global_Sales      0\n",
       "dtype: int64"
      ]
     },
     "execution_count": 7,
     "metadata": {},
     "output_type": "execute_result"
    }
   ],
   "source": [
    "# handle missing values\n",
    "print(\"Missing Values\")\n",
    "dataframe.isnull().sum()"
   ]
  },
  {
   "cell_type": "code",
   "execution_count": 8,
   "metadata": {
    "id": "NjLzh4JJ3fv1"
   },
   "outputs": [],
   "source": [
    "# fixed year missing value\n",
    "from sklearn.impute import SimpleImputer\n",
    "imputer = SimpleImputer()\n",
    "dataframe[['Year']] = imputer.fit_transform(dataframe[['Year']])"
   ]
  },
  {
   "cell_type": "code",
   "execution_count": 9,
   "metadata": {
    "colab": {
     "base_uri": "https://localhost:8080/"
    },
    "id": "ATWIm_W43fv2",
    "outputId": "e29290cf-5e74-46b6-e3de-c024b4d192a4"
   },
   "outputs": [
    {
     "data": {
      "text/plain": [
       "Rank             0\n",
       "Name             0\n",
       "Platform         0\n",
       "Year             0\n",
       "Genre            0\n",
       "Publisher       58\n",
       "NA_Sales         0\n",
       "EU_Sales         0\n",
       "JP_Sales         0\n",
       "Other_Sales      0\n",
       "Global_Sales     0\n",
       "dtype: int64"
      ]
     },
     "execution_count": 9,
     "metadata": {},
     "output_type": "execute_result"
    }
   ],
   "source": [
    "dataframe.isnull().sum()"
   ]
  },
  {
   "cell_type": "code",
   "execution_count": 10,
   "metadata": {
    "id": "cL7w9EJ23fv3"
   },
   "outputs": [],
   "source": [
    "# handle missing values - publisher column\n",
    "dataframe.dropna(inplace=True)"
   ]
  },
  {
   "cell_type": "code",
   "execution_count": 11,
   "metadata": {
    "colab": {
     "base_uri": "https://localhost:8080/"
    },
    "id": "5xV8yQv23fv4",
    "outputId": "f5657294-0c5a-4df3-a0f4-abd7d3e2879d"
   },
   "outputs": [
    {
     "name": "stdout",
     "output_type": "stream",
     "text": [
      "Rank            0\n",
      "Name            0\n",
      "Platform        0\n",
      "Year            0\n",
      "Genre           0\n",
      "Publisher       0\n",
      "NA_Sales        0\n",
      "EU_Sales        0\n",
      "JP_Sales        0\n",
      "Other_Sales     0\n",
      "Global_Sales    0\n",
      "dtype: int64\n",
      "\n",
      "Shape of dataset :  (16540, 11)\n"
     ]
    }
   ],
   "source": [
    "print(dataframe.isnull().sum())\n",
    "print(\"\\nShape of dataset : \", dataframe.shape)"
   ]
  },
  {
   "cell_type": "markdown",
   "metadata": {
    "id": "_MA6crf63fv5"
   },
   "source": [
    "<p><h2 style=\"font-family: 'Roboto', sans-serif;color:#2e2a6b;\">VISUALIZATION OF DATA AND PREPROCESSING</h2></p>"
   ]
  },
  {
   "cell_type": "code",
   "execution_count": 12,
   "metadata": {
    "colab": {
     "base_uri": "https://localhost:8080/"
    },
    "id": "cbgFl27P3fv6",
    "outputId": "daf06b06-37fa-4d3e-faee-6c41de05b0bf"
   },
   "outputs": [
    {
     "name": "stdout",
     "output_type": "stream",
     "text": [
      "Visualization library imported\n"
     ]
    }
   ],
   "source": [
    "#Visualization data to get information\n",
    "#Import library to plotting data\n",
    "import matplotlib.pyplot as plt\n",
    "import seaborn as sns\n",
    "print(\"Visualization library imported\")"
   ]
  },
  {
   "cell_type": "code",
   "execution_count": 13,
   "metadata": {
    "colab": {
     "base_uri": "https://localhost:8080/",
     "height": 902
    },
    "id": "VFEROlra3fv7",
    "outputId": "18bf8079-44ac-43a2-f67d-4ecc80c93425"
   },
   "outputs": [
    {
     "name": "stdout",
     "output_type": "stream",
     "text": [
      "Total Platform Counts\n"
     ]
    },
    {
     "data": {
      "text/plain": [
       "<matplotlib.axes._subplots.AxesSubplot at 0x1d6d73124c8>"
      ]
     },
     "execution_count": 13,
     "metadata": {},
     "output_type": "execute_result"
    },
    {
     "data": {
      "image/png": "[encoded data removed]",
      "text/plain": [
       "<Figure size 1800x1080 with 1 Axes>"
      ]
     },
     "metadata": {
      "needs_background": "light"
     },
     "output_type": "display_data"
    }
   ],
   "source": [
    "print('Total Platform Counts')\n",
    "\n",
    "\n",
    "plt.figure(figsize=(25, 15))\n",
    "plt.xlabel('Platform')\n",
    "plt.ylabel(\"Count\")\n",
    "plt.title(\"Platform Count\")\n",
    "sns.countplot(x='Platform', data=dataframe, order = dataframe['Platform'].value_counts().index)"
   ]
  },
  {
   "cell_type": "code",
   "execution_count": 14,
   "metadata": {
    "colab": {
     "base_uri": "https://localhost:8080/",
     "height": 640
    },
    "id": "v3a2ybU33fv8",
    "outputId": "987461e5-ed52-4637-8132-eb8e7656e0d4"
   },
   "outputs": [
    {
     "name": "stdout",
     "output_type": "stream",
     "text": [
      "Total Genre Count\n"
     ]
    },
    {
     "data": {
      "text/plain": [
       "<matplotlib.axes._subplots.AxesSubplot at 0x1d6d7394d88>"
      ]
     },
     "execution_count": 14,
     "metadata": {},
     "output_type": "execute_result"
    },
    {
     "data": {
      "image/png": "[encoded data removed]",
      "text/plain": [
       "<Figure size 864x720 with 1 Axes>"
      ]
     },
     "metadata": {
      "needs_background": "light"
     },
     "output_type": "display_data"
    }
   ],
   "source": [
    "print(\"Total Genre Count\")\n",
    "\n",
    "plt.figure(figsize=(12, 10))\n",
    "sns.countplot(x=\"Genre\", data=dataframe, order = dataframe['Genre'].value_counts().index)"
   ]
  },
  {
   "cell_type": "code",
   "execution_count": 15,
   "metadata": {
    "colab": {
     "base_uri": "https://localhost:8080/",
     "height": 598
    },
    "id": "zmn9mJQo3fv9",
    "outputId": "cdda40b1-6e7e-4353-80db-5450a59db5da"
   },
   "outputs": [
    {
     "name": "stdout",
     "output_type": "stream",
     "text": [
      "Plotting Genre over Global Sales\n"
     ]
    },
    {
     "data": {
      "text/plain": [
       "(array([ 0,  1,  2,  3,  4,  5,  6,  7,  8,  9, 10, 11]),\n",
       " <a list of 12 Text xticklabel objects>)"
      ]
     },
     "execution_count": 15,
     "metadata": {},
     "output_type": "execute_result"
    },
    {
     "data": {
      "image/png": "[encoded data removed]",
      "text/plain": [
       "<Figure size 720x576 with 1 Axes>"
      ]
     },
     "metadata": {
      "needs_background": "light"
     },
     "output_type": "display_data"
    }
   ],
   "source": [
    "print(\"Plotting Genre over Global Sales\")\n",
    "data_genre = dataframe.groupby(by=['Genre'])['Global_Sales'].sum()\n",
    "data_genre = data_genre.reset_index()\n",
    "data_genre.sort_values(by=['Global_Sales'], ascending=False)\n",
    "\n",
    "plt.figure(figsize=(10, 8))\n",
    "sns.barplot(x=\"Genre\", y=\"Global_Sales\", data=data_genre)\n",
    "plt.xticks(rotation=90)"
   ]
  },
  {
   "cell_type": "code",
   "execution_count": 16,
   "metadata": {
    "colab": {
     "base_uri": "https://localhost:8080/",
     "height": 581
    },
    "id": "l7NHJ_cD3fv-",
    "outputId": "8c2266dc-73fe-4e6d-cf41-3f0490a88588"
   },
   "outputs": [
    {
     "name": "stdout",
     "output_type": "stream",
     "text": [
      "Plotting Histogram for Genre with frequency count\n"
     ]
    },
    {
     "data": {
      "image/png": "[encoded data removed]",
      "text/plain": [
       "<Figure size 720x576 with 1 Axes>"
      ]
     },
     "metadata": {
      "needs_background": "light"
     },
     "output_type": "display_data"
    }
   ],
   "source": [
    "print('Plotting Histogram for Genre with frequency count')\n",
    "plt.figure(figsize=(10, 8))\n",
    "plt.hist(dataframe['Genre'],color='#2e2a6b',orientation ='vertical', edgecolor='white', linewidth=1.2)\n",
    "plt.title('Genre histogram')\n",
    "plt.xlabel('Genre')\n",
    "plt.ylabel('frequency')\n",
    "Genre=('Action ','Sports','Misc','Role-Playing','Shooter','Adventure', 'Racing', 'Platform','Smulation','Fighting','Strategy' , 'Puzzle',)\n",
    "index=np.arange(len(Genre))\n",
    "plt.xticks(index, Genre, rotation=90)\n",
    "plt.show()"
   ]
  },
  {
   "cell_type": "code",
   "execution_count": 17,
   "metadata": {
    "colab": {
     "base_uri": "https://localhost:8080/",
     "height": 557
    },
    "id": "omMGLbX83fv_",
    "outputId": "acea8a43-9d9c-4869-8b25-0fabc7a1b534"
   },
   "outputs": [
    {
     "name": "stdout",
     "output_type": "stream",
     "text": [
      "Plotting HeatMap\n"
     ]
    },
    {
     "data": {
      "image/png": "[encoded data removed]",
      "text/plain": [
       "<Figure size 576x576 with 2 Axes>"
      ]
     },
     "metadata": {
      "needs_background": "light"
     },
     "output_type": "display_data"
    }
   ],
   "source": [
    "print(\"Plotting HeatMap\")\n",
    "plt.figure(figsize=(8,8))\n",
    "sns.heatmap(dataframe.corr(),annot=True, cmap='Blues')\n",
    "plt.show()"
   ]
  },
  {
   "cell_type": "code",
   "execution_count": 18,
   "metadata": {
    "colab": {
     "base_uri": "https://localhost:8080/",
     "height": 514
    },
    "id": "LtTnT5PT3fwA",
    "outputId": "ed933d26-1bdb-4430-abc5-ec6796ceafd9"
   },
   "outputs": [
    {
     "name": "stdout",
     "output_type": "stream",
     "text": [
      "Line Graph grouped by Years over Sales\n"
     ]
    },
    {
     "data": {
      "image/png": "[encoded data removed]",
      "text/plain": [
       "<Figure size 720x576 with 1 Axes>"
      ]
     },
     "metadata": {
      "needs_background": "light"
     },
     "output_type": "display_data"
    }
   ],
   "source": [
    "print(\"Line Graph grouped by Years over Sales\")\n",
    "df = dataframe[['Year','NA_Sales', 'EU_Sales', 'JP_Sales', 'Other_Sales', 'Global_Sales']].groupby(by = 'Year').sum()\n",
    "df.plot.line(figsize=(10,8), grid=\"on\");\n",
    "plt.xlabel(\"Year\")\n",
    "plt.ylabel(\"Sales in million $\");"
   ]
  },
  {
   "cell_type": "code",
   "execution_count": 19,
   "metadata": {
    "colab": {
     "base_uri": "https://localhost:8080/",
     "height": 335
    },
    "id": "MZA_GsCl3fwB",
    "outputId": "44e3dd04-0e51-4f3f-9b9f-90d39e1ff279"
   },
   "outputs": [
    {
     "name": "stdout",
     "output_type": "stream",
     "text": [
      "Regional Sales bargraph\n"
     ]
    },
    {
     "data": {
      "image/png": "[encoded data removed]",
      "text/plain": [
       "<Figure size 432x288 with 1 Axes>"
      ]
     },
     "metadata": {
      "needs_background": "light"
     },
     "output_type": "display_data"
    }
   ],
   "source": [
    "#Since region sales high correlate to global sales, we plot it to know where highest region correlation.\n",
    "print(\"Regional Sales bargraph\")\n",
    "dataframe[[\"NA_Sales\", \"EU_Sales\", \"JP_Sales\", \"Other_Sales\"]].sum().plot(x=\"Global_Sales\", kind=\"barh\", color='#2e2a6b', edgecolor='yellow',linewidth=1.5)\n",
    "plt.xlabel('Global Sales', fontsize=14)\n",
    "plt.ylabel('Region Sales', fontsize=14)\n",
    "plt.title('Region of Global Sales', pad=20, fontsize=20)\n",
    "plt.show()"
   ]
  },
  {
   "cell_type": "markdown",
   "metadata": {
    "id": "bHwJaMWw3fwC"
   },
   "source": [
    "<p><h3 style=\"font-family: 'Roboto', sans-serif; color:#2e2a6b\">\n",
    "    <ul>\n",
    "    <li> <b> X </b> as the <b> Feature Matrix </b> (data of dataframe) </li>\n",
    "    <li> <b> y </b> as the <b> response vector (target) </b> </li>\n",
    "</ul>\n",
    "</h3></p>\n",
    "\n"
   ]
  },
  {
   "cell_type": "markdown",
   "metadata": {
    "id": "BuvwTBV23fwC"
   },
   "source": [
    "<p><h3 style=\"font-family: 'Roboto', sans-serif;color:#2e2a6b;\">PREPARING BINNING FOR GLOBAL SALES</h3></p>\n"
   ]
  },
  {
   "cell_type": "code",
   "execution_count": 20,
   "metadata": {
    "colab": {
     "base_uri": "https://localhost:8080/"
    },
    "id": "OSuFW5gn3fwD",
    "outputId": "28f951bf-70ee-4fa8-bf81-7358fba9b2bb"
   },
   "outputs": [
    {
     "name": "stdout",
     "output_type": "stream",
     "text": [
      "Binning Function\n"
     ]
    }
   ],
   "source": [
    "print('Binning Function')"
   ]
  },
  {
   "cell_type": "code",
   "execution_count": 21,
   "metadata": {
    "id": "DiBBqxz73fwE"
   },
   "outputs": [],
   "source": [
    "# data binning -for categorical value\n",
    "def binningFunction(col, cut_points, labels=None):\n",
    "    minval = col.min()\n",
    "    maxval = col.max()\n",
    "    break_points = [minval] + cut_points + [maxval]\n",
    "    print(break_points)\n",
    "    if not labels:\n",
    "        labels = range(len(cut_points)+1)\n",
    "    colBin = pd.cut(col,bins=break_points,labels=labels,include_lowest=True)\n",
    "    return colBin"
   ]
  },
  {
   "cell_type": "code",
   "execution_count": 22,
   "metadata": {
    "colab": {
     "base_uri": "https://localhost:8080/"
    },
    "id": "cgmfBrPL3fwE",
    "outputId": "8affda55-f12c-4782-e1bc-ae4dc8f0bc7f"
   },
   "outputs": [
    {
     "name": "stdout",
     "output_type": "stream",
     "text": [
      "max:  82.74 \n",
      "min:  0.01 \n",
      "mean 0.538425634824741\n"
     ]
    }
   ],
   "source": [
    "# binning global sales\n",
    "print(\"max: \",dataframe[\"Global_Sales\"].max(),\"\\nmin: \",dataframe[\"Global_Sales\"].min(),\"\\nmean\",dataframe[\"Global_Sales\"].mean())"
   ]
  },
  {
   "cell_type": "code",
   "execution_count": 23,
   "metadata": {
    "colab": {
     "base_uri": "https://localhost:8080/"
    },
    "id": "6IHng_ik3fwF",
    "outputId": "e847c90e-30e2-41b7-8474-96527a409726"
   },
   "outputs": [
    {
     "name": "stdout",
     "output_type": "stream",
     "text": [
      "[0.01, 0.4, 10, 82.74]\n"
     ]
    }
   ],
   "source": [
    "# setting cut point for global sales\n",
    "cut_points = [0.40,10]\n",
    "labels = ['Low_Sales',\"Avarage_Sales\",\"High_Sales\"]\n",
    "dataframe['Sales_Category_GS'] = binningFunction(dataframe['Global_Sales'], cut_points, labels)"
   ]
  },
  {
   "cell_type": "code",
   "execution_count": 24,
   "metadata": {
    "colab": {
     "base_uri": "https://localhost:8080/"
    },
    "id": "y6W3TL2q3fwG",
    "outputId": "4d583c8d-8aaf-4067-cb89-3ec111a3c6f3"
   },
   "outputs": [
    {
     "data": {
      "text/plain": [
       "Low_Sales        11772\n",
       "Avarage_Sales     4706\n",
       "High_Sales          62\n",
       "Name: Sales_Category_GS, dtype: int64"
      ]
     },
     "execution_count": 24,
     "metadata": {},
     "output_type": "execute_result"
    }
   ],
   "source": [
    "dataframe['Sales_Category_GS'].value_counts()"
   ]
  },
  {
   "cell_type": "code",
   "execution_count": 25,
   "metadata": {
    "colab": {
     "base_uri": "https://localhost:8080/",
     "height": 414
    },
    "id": "ILF00axs3fwH",
    "outputId": "6ec9d5c1-30d5-4b21-8956-58c4379ecbca"
   },
   "outputs": [
    {
     "data": {
      "text/plain": [
       "(array([0, 1, 2]), <a list of 3 Text xticklabel objects>)"
      ]
     },
     "execution_count": 25,
     "metadata": {},
     "output_type": "execute_result"
    },
    {
     "data": {
      "image/png": "[encoded data removed]",
      "text/plain": [
       "<Figure size 288x360 with 1 Axes>"
      ]
     },
     "metadata": {
      "needs_background": "light"
     },
     "output_type": "display_data"
    }
   ],
   "source": [
    "data_cat = dataframe.groupby(by=['Sales_Category_GS'])['Global_Sales'].sum()\n",
    "data_cat = data_cat.reset_index()\n",
    "data_cat.sort_values(by=['Global_Sales'], ascending=False)\n",
    "\n",
    "plt.figure(figsize=(4, 5))\n",
    "sns.barplot(x=\"Sales_Category_GS\", y=\"Global_Sales\", data=data_cat)\n",
    "plt.xticks(rotation=90)"
   ]
  },
  {
   "cell_type": "markdown",
   "metadata": {
    "id": "N26CWcrO3fwH"
   },
   "source": [
    "<p><h3 style=\"font-family: 'Roboto', sans-serif;color:#2e2a6b;\">PREPARING BINNING FOR NA SALES</h3></p>\n"
   ]
  },
  {
   "cell_type": "code",
   "execution_count": 26,
   "metadata": {
    "colab": {
     "base_uri": "https://localhost:8080/"
    },
    "id": "xRIBOkRB3fwI",
    "outputId": "84c04dbe-5e07-4c06-f6d8-0b93b844446b"
   },
   "outputs": [
    {
     "name": "stdout",
     "output_type": "stream",
     "text": [
      "max:  41.49 \n",
      "min:  0.0 \n",
      "mean 0.2650792019347233\n"
     ]
    }
   ],
   "source": [
    "# binning global sales\n",
    "print(\"max: \",dataframe[\"NA_Sales\"].max(),\"\\nmin: \",dataframe[\"NA_Sales\"].min(),\"\\nmean\",dataframe[\"NA_Sales\"].mean())"
   ]
  },
  {
   "cell_type": "code",
   "execution_count": 27,
   "metadata": {
    "colab": {
     "base_uri": "https://localhost:8080/"
    },
    "id": "UNwtJu8P3fwJ",
    "outputId": "14aed650-58f9-41c5-988b-f9ba65353c75"
   },
   "outputs": [
    {
     "name": "stdout",
     "output_type": "stream",
     "text": [
      "[0.0, 0.3, 5, 41.49]\n"
     ]
    }
   ],
   "source": [
    "cut_points = [0.30,5]\n",
    "labels = ['Low_Sales',\"Avarage_Sales\",\"High_Sales\"]\n",
    "dataframe['Sales_Category_NA'] = binningFunction(dataframe['NA_Sales'], cut_points, labels)"
   ]
  },
  {
   "cell_type": "code",
   "execution_count": 28,
   "metadata": {
    "colab": {
     "base_uri": "https://localhost:8080/"
    },
    "id": "9Lddo5ZN3fwJ",
    "outputId": "876a51a3-c8b4-4e88-e472-c8903c6e8340"
   },
   "outputs": [
    {
     "data": {
      "text/plain": [
       "Low_Sales        13161\n",
       "Avarage_Sales     3321\n",
       "High_Sales          58\n",
       "Name: Sales_Category_NA, dtype: int64"
      ]
     },
     "execution_count": 28,
     "metadata": {},
     "output_type": "execute_result"
    }
   ],
   "source": [
    "dataframe['Sales_Category_NA'].value_counts()"
   ]
  },
  {
   "cell_type": "code",
   "execution_count": 29,
   "metadata": {
    "colab": {
     "base_uri": "https://localhost:8080/",
     "height": 414
    },
    "id": "fuEg-kN83fwK",
    "outputId": "9c55d02a-bf42-44fb-80fa-19b6e44debbe"
   },
   "outputs": [
    {
     "data": {
      "text/plain": [
       "(array([0, 1, 2]), <a list of 3 Text xticklabel objects>)"
      ]
     },
     "execution_count": 29,
     "metadata": {},
     "output_type": "execute_result"
    },
    {
     "data": {
      "image/png": "[encoded data removed]",
      "text/plain": [
       "<Figure size 288x360 with 1 Axes>"
      ]
     },
     "metadata": {
      "needs_background": "light"
     },
     "output_type": "display_data"
    }
   ],
   "source": [
    "data_cat = dataframe.groupby(by=['Sales_Category_NA'])['Global_Sales'].sum()\n",
    "data_cat = data_cat.reset_index()\n",
    "data_cat.sort_values(by=['Global_Sales'], ascending=False)\n",
    "\n",
    "plt.figure(figsize=(4, 5))\n",
    "sns.barplot(x=\"Sales_Category_NA\", y=\"Global_Sales\", data=data_cat)\n",
    "plt.xticks(rotation=90)"
   ]
  },
  {
   "cell_type": "markdown",
   "metadata": {
    "id": "eQIKTxHH3fwL"
   },
   "source": [
    "<p><h3 style=\"font-family: 'Roboto', sans-serif;color:#2e2a6b;\">PREPARING BINNING FOR EU SALES</h3></p>\n"
   ]
  },
  {
   "cell_type": "code",
   "execution_count": 30,
   "metadata": {
    "colab": {
     "base_uri": "https://localhost:8080/"
    },
    "id": "98PPHBDw3fwO",
    "outputId": "aa7ebfc6-45f7-4282-d700-efc9905819e8"
   },
   "outputs": [
    {
     "name": "stdout",
     "output_type": "stream",
     "text": [
      "max:  29.02 \n",
      "min:  0.0 \n",
      "mean 0.14688331318020234\n"
     ]
    }
   ],
   "source": [
    "# binning global sales\n",
    "print(\"max: \",dataframe[\"EU_Sales\"].max(),\"\\nmin: \",dataframe[\"EU_Sales\"].min(),\"\\nmean\",dataframe[\"EU_Sales\"].mean())"
   ]
  },
  {
   "cell_type": "code",
   "execution_count": 31,
   "metadata": {
    "colab": {
     "base_uri": "https://localhost:8080/"
    },
    "id": "aoyTVGey3fwO",
    "outputId": "7bfbfe91-ef74-4257-c52a-9dfba52f3694"
   },
   "outputs": [
    {
     "name": "stdout",
     "output_type": "stream",
     "text": [
      "[0.0, 0.12, 10, 29.02]\n"
     ]
    }
   ],
   "source": [
    "cut_points = [0.12, 10]\n",
    "labels = ['Low_Sales',\"Avarage_Sales\",\"High_Sales\"]\n",
    "dataframe['Sales_Category_EU'] = binningFunction(dataframe['EU_Sales'], cut_points, labels)"
   ]
  },
  {
   "cell_type": "code",
   "execution_count": 32,
   "metadata": {
    "colab": {
     "base_uri": "https://localhost:8080/"
    },
    "id": "TJ1gRLZQ3fwP",
    "outputId": "bfd16b03-645e-4e4b-8db1-3177509edc64"
   },
   "outputs": [
    {
     "data": {
      "text/plain": [
       "Low_Sales        12716\n",
       "Avarage_Sales     3820\n",
       "High_Sales           4\n",
       "Name: Sales_Category_EU, dtype: int64"
      ]
     },
     "execution_count": 32,
     "metadata": {},
     "output_type": "execute_result"
    }
   ],
   "source": [
    "dataframe['Sales_Category_EU'].value_counts()"
   ]
  },
  {
   "cell_type": "code",
   "execution_count": 33,
   "metadata": {
    "colab": {
     "base_uri": "https://localhost:8080/",
     "height": 414
    },
    "id": "U0s59DDi3fwQ",
    "outputId": "eb3ea9a7-9d42-475f-f3fb-32f480383d4c"
   },
   "outputs": [
    {
     "data": {
      "text/plain": [
       "(array([0, 1, 2]), <a list of 3 Text xticklabel objects>)"
      ]
     },
     "execution_count": 33,
     "metadata": {},
     "output_type": "execute_result"
    },
    {
     "data": {
      "image/png": "[encoded data removed]",
      "text/plain": [
       "<Figure size 288x360 with 1 Axes>"
      ]
     },
     "metadata": {
      "needs_background": "light"
     },
     "output_type": "display_data"
    }
   ],
   "source": [
    "data_cat = dataframe.groupby(by=['Sales_Category_EU'])['Global_Sales'].sum()\n",
    "data_cat = data_cat.reset_index()\n",
    "data_cat.sort_values(by=['Global_Sales'], ascending=False)\n",
    "\n",
    "plt.figure(figsize=(4, 5))\n",
    "sns.barplot(x=\"Sales_Category_EU\", y=\"Global_Sales\", data=data_cat)\n",
    "plt.xticks(rotation=90)"
   ]
  },
  {
   "cell_type": "code",
   "execution_count": 34,
   "metadata": {
    "colab": {
     "base_uri": "https://localhost:8080/",
     "height": 182
    },
    "id": "rVV2vc6Z3fwQ",
    "outputId": "9d8d2ce6-0b14-4674-9780-c655cd97dc78"
   },
   "outputs": [
    {
     "data": {
      "text/html": [
       "<div>\n",
       "<style scoped>\n",
       "    .dataframe tbody tr th:only-of-type {\n",
       "        vertical-align: middle;\n",
       "    }\n",
       "\n",
       "    .dataframe tbody tr th {\n",
       "        vertical-align: top;\n",
       "    }\n",
       "\n",
       "    .dataframe thead th {\n",
       "        text-align: right;\n",
       "    }\n",
       "</style>\n",
       "<table border=\"1\" class=\"dataframe\">\n",
       "  <thead>\n",
       "    <tr style=\"text-align: right;\">\n",
       "      <th></th>\n",
       "      <th>Rank</th>\n",
       "      <th>Name</th>\n",
       "      <th>Platform</th>\n",
       "      <th>Year</th>\n",
       "      <th>Genre</th>\n",
       "      <th>Publisher</th>\n",
       "      <th>NA_Sales</th>\n",
       "      <th>EU_Sales</th>\n",
       "      <th>JP_Sales</th>\n",
       "      <th>Other_Sales</th>\n",
       "      <th>Global_Sales</th>\n",
       "      <th>Sales_Category_GS</th>\n",
       "      <th>Sales_Category_NA</th>\n",
       "      <th>Sales_Category_EU</th>\n",
       "    </tr>\n",
       "  </thead>\n",
       "  <tbody>\n",
       "    <tr>\n",
       "      <th>10</th>\n",
       "      <td>11</td>\n",
       "      <td>Nintendogs</td>\n",
       "      <td>DS</td>\n",
       "      <td>2005.0</td>\n",
       "      <td>Simulation</td>\n",
       "      <td>Nintendo</td>\n",
       "      <td>9.07</td>\n",
       "      <td>11.00</td>\n",
       "      <td>1.93</td>\n",
       "      <td>2.75</td>\n",
       "      <td>24.76</td>\n",
       "      <td>High_Sales</td>\n",
       "      <td>High_Sales</td>\n",
       "      <td>High_Sales</td>\n",
       "    </tr>\n",
       "    <tr>\n",
       "      <th>11</th>\n",
       "      <td>12</td>\n",
       "      <td>Mario Kart DS</td>\n",
       "      <td>DS</td>\n",
       "      <td>2005.0</td>\n",
       "      <td>Racing</td>\n",
       "      <td>Nintendo</td>\n",
       "      <td>9.81</td>\n",
       "      <td>7.57</td>\n",
       "      <td>4.13</td>\n",
       "      <td>1.92</td>\n",
       "      <td>23.42</td>\n",
       "      <td>High_Sales</td>\n",
       "      <td>High_Sales</td>\n",
       "      <td>Avarage_Sales</td>\n",
       "    </tr>\n",
       "    <tr>\n",
       "      <th>12</th>\n",
       "      <td>13</td>\n",
       "      <td>Pokemon Gold/Pokemon Silver</td>\n",
       "      <td>GB</td>\n",
       "      <td>1999.0</td>\n",
       "      <td>Role-Playing</td>\n",
       "      <td>Nintendo</td>\n",
       "      <td>9.00</td>\n",
       "      <td>6.18</td>\n",
       "      <td>7.20</td>\n",
       "      <td>0.71</td>\n",
       "      <td>23.10</td>\n",
       "      <td>High_Sales</td>\n",
       "      <td>High_Sales</td>\n",
       "      <td>Avarage_Sales</td>\n",
       "    </tr>\n",
       "    <tr>\n",
       "      <th>13</th>\n",
       "      <td>14</td>\n",
       "      <td>Wii Fit</td>\n",
       "      <td>Wii</td>\n",
       "      <td>2007.0</td>\n",
       "      <td>Sports</td>\n",
       "      <td>Nintendo</td>\n",
       "      <td>8.94</td>\n",
       "      <td>8.03</td>\n",
       "      <td>3.60</td>\n",
       "      <td>2.15</td>\n",
       "      <td>22.72</td>\n",
       "      <td>High_Sales</td>\n",
       "      <td>High_Sales</td>\n",
       "      <td>Avarage_Sales</td>\n",
       "    </tr>\n",
       "  </tbody>\n",
       "</table>\n",
       "</div>"
      ],
      "text/plain": [
       "    Rank                         Name Platform    Year         Genre  \\\n",
       "10    11                   Nintendogs       DS  2005.0    Simulation   \n",
       "11    12                Mario Kart DS       DS  2005.0        Racing   \n",
       "12    13  Pokemon Gold/Pokemon Silver       GB  1999.0  Role-Playing   \n",
       "13    14                      Wii Fit      Wii  2007.0        Sports   \n",
       "\n",
       "   Publisher  NA_Sales  EU_Sales  JP_Sales  Other_Sales  Global_Sales  \\\n",
       "10  Nintendo      9.07     11.00      1.93         2.75         24.76   \n",
       "11  Nintendo      9.81      7.57      4.13         1.92         23.42   \n",
       "12  Nintendo      9.00      6.18      7.20         0.71         23.10   \n",
       "13  Nintendo      8.94      8.03      3.60         2.15         22.72   \n",
       "\n",
       "   Sales_Category_GS Sales_Category_NA Sales_Category_EU  \n",
       "10        High_Sales        High_Sales        High_Sales  \n",
       "11        High_Sales        High_Sales     Avarage_Sales  \n",
       "12        High_Sales        High_Sales     Avarage_Sales  \n",
       "13        High_Sales        High_Sales     Avarage_Sales  "
      ]
     },
     "execution_count": 34,
     "metadata": {},
     "output_type": "execute_result"
    }
   ],
   "source": [
    "dataframe.iloc[10:14].head()"
   ]
  },
  {
   "cell_type": "code",
   "execution_count": 35,
   "metadata": {
    "id": "d7C1HqPD3fwR"
   },
   "outputs": [],
   "source": [
    "# for all algorithms will accept train test value\n",
    "algo = ['GB_sales', 'NA_sales', \"EU_sales\"]\n",
    "train_set=[]\n",
    "test_set=[]"
   ]
  },
  {
   "cell_type": "code",
   "execution_count": 36,
   "metadata": {
    "id": "j1olBy263fwS"
   },
   "outputs": [],
   "source": [
    "#Make cluster data\n",
    "X = dataframe[['Rank','Genre','Platform','Publisher','Year']].values"
   ]
  },
  {
   "cell_type": "code",
   "execution_count": 37,
   "metadata": {
    "id": "XYuezKX53fwS",
    "scrolled": false
   },
   "outputs": [],
   "source": [
    "gen = dataframe[\"Genre\"].unique()\n",
    "gen = list(gen)\n",
    "pltf = dataframe[\"Platform\"].unique()\n",
    "pltf = list(pltf)\n",
    "pub = dataframe[\"Publisher\"].unique()\n",
    "pub = list(pub)"
   ]
  },
  {
   "cell_type": "markdown",
   "metadata": {
    "id": "IBYGaCyh3fwT"
   },
   "source": [
    "<p><h3 style=\"font-family: 'Roboto', sans-serif;color:#2e2a6b;\">ENCODING VALUES FOR X</h3></p>\n",
    "\n"
   ]
  },
  {
   "cell_type": "code",
   "execution_count": 38,
   "metadata": {
    "colab": {
     "base_uri": "https://localhost:8080/"
    },
    "id": "_1hWX8zq3fwT",
    "outputId": "171742f6-cee5-4048-fba7-ea7a520fdfc6"
   },
   "outputs": [
    {
     "data": {
      "text/plain": [
       "array([[1, 10, 26, 359, 2006.0],\n",
       "       [2, 4, 11, 359, 1985.0],\n",
       "       [3, 6, 26, 359, 2008.0],\n",
       "       [4, 10, 26, 359, 2009.0],\n",
       "       [5, 7, 5, 359, 1996.0]], dtype=object)"
      ]
     },
     "execution_count": 38,
     "metadata": {},
     "output_type": "execute_result"
    }
   ],
   "source": [
    "\n",
    "from sklearn import preprocessing\n",
    "\n",
    "le_genre = preprocessing.LabelEncoder()\n",
    "le_genre.fit(gen)\n",
    "X[:,1] = le_genre.transform(X[:,1]) \n",
    "\n",
    "\n",
    "le_pltf = preprocessing.LabelEncoder()\n",
    "le_pltf.fit(pltf)\n",
    "X[:,2] = le_pltf.transform(X[:,2])\n",
    "\n",
    "\n",
    "le_pub = preprocessing.LabelEncoder()\n",
    "le_pub.fit(pub)\n",
    "X[:,3] = le_pub.transform(X[:,3]) \n",
    "\n",
    "X[0:5]\n"
   ]
  },
  {
   "cell_type": "markdown",
   "metadata": {
    "id": "qR2ECVSS3fwU"
   },
   "source": [
    "<p><h3 style=\"font-family: 'Roboto', sans-serif;color:#2e2a6b;\">DECISION TREE CLASSIFIER - GLOBAL SALES PREDICTION</h3></p>\n"
   ]
  },
  {
   "cell_type": "code",
   "execution_count": 39,
   "metadata": {
    "id": "QL1xzKa83fwU"
   },
   "outputs": [],
   "source": [
    "# target value\n",
    "y = dataframe['Sales_Category_GS'].values"
   ]
  },
  {
   "cell_type": "code",
   "execution_count": 40,
   "metadata": {
    "id": "sZT85Kp53fwa"
   },
   "outputs": [],
   "source": [
    "# training testing dataset\n",
    "from sklearn.model_selection import train_test_split\n",
    "X_train, X_test, y_train, y_test = train_test_split(X, y, test_size = 0.3, random_state = 0)"
   ]
  },
  {
   "cell_type": "code",
   "execution_count": 41,
   "metadata": {
    "id": "YMuWVoLy3fwb"
   },
   "outputs": [],
   "source": [
    "from sklearn.tree import DecisionTreeClassifier"
   ]
  },
  {
   "cell_type": "code",
   "execution_count": 42,
   "metadata": {
    "colab": {
     "base_uri": "https://localhost:8080/"
    },
    "id": "05rGm6Ft3fwc",
    "outputId": "ea708ddf-21af-41bc-df15-bd48f2e9efef"
   },
   "outputs": [
    {
     "data": {
      "text/plain": [
       "DecisionTreeClassifier(ccp_alpha=0.0, class_weight=None, criterion='entropy',\n",
       "                       max_depth=4, max_features=None, max_leaf_nodes=None,\n",
       "                       min_impurity_decrease=0.0, min_impurity_split=None,\n",
       "                       min_samples_leaf=1, min_samples_split=2,\n",
       "                       min_weight_fraction_leaf=0.0, presort='deprecated',\n",
       "                       random_state=None, splitter='best')"
      ]
     },
     "execution_count": 42,
     "metadata": {},
     "output_type": "execute_result"
    }
   ],
   "source": [
    "salestree = DecisionTreeClassifier(criterion=\"entropy\", max_depth = 4)\n",
    "salestree # it shows the default parameters"
   ]
  },
  {
   "cell_type": "code",
   "execution_count": 43,
   "metadata": {
    "colab": {
     "base_uri": "https://localhost:8080/"
    },
    "id": "Rbd7v7F_3fwd",
    "outputId": "82ffd8e3-7054-4809-8d26-73494cd4da67"
   },
   "outputs": [
    {
     "data": {
      "text/plain": [
       "DecisionTreeClassifier(ccp_alpha=0.0, class_weight=None, criterion='entropy',\n",
       "                       max_depth=4, max_features=None, max_leaf_nodes=None,\n",
       "                       min_impurity_decrease=0.0, min_impurity_split=None,\n",
       "                       min_samples_leaf=1, min_samples_split=2,\n",
       "                       min_weight_fraction_leaf=0.0, presort='deprecated',\n",
       "                       random_state=None, splitter='best')"
      ]
     },
     "execution_count": 43,
     "metadata": {},
     "output_type": "execute_result"
    }
   ],
   "source": [
    "# fitting trainning testing\n",
    "salestree.fit(X_train,y_train)"
   ]
  },
  {
   "cell_type": "code",
   "execution_count": 44,
   "metadata": {
    "id": "4kpqDL7k3fwf"
   },
   "outputs": [],
   "source": [
    "# preparing prediction tree\n",
    "y_pred = salestree.predict(X_test)"
   ]
  },
  {
   "cell_type": "code",
   "execution_count": 45,
   "metadata": {
    "id": "XQ_RB3gW3fwh"
   },
   "outputs": [],
   "source": [
    "train_set.append(salestree.score(X_train, y_train))\n",
    "test_set.append(salestree.score(X_test, y_test))"
   ]
  },
  {
   "cell_type": "code",
   "execution_count": 46,
   "metadata": {
    "colab": {
     "base_uri": "https://localhost:8080/"
    },
    "id": "gW5jTdKq3fwh",
    "outputId": "1d50b54b-525a-47a3-8469-d76f89565a61"
   },
   "outputs": [
    {
     "name": "stdout",
     "output_type": "stream",
     "text": [
      "['Low_Sales' 'Low_Sales' 'Low_Sales' 'Avarage_Sales' 'Low_Sales'\n",
      " 'Low_Sales']\n",
      "[Low_Sales, Low_Sales, Low_Sales, Avarage_Sales, Low_Sales, Low_Sales]\n",
      "Categories (3, object): [Low_Sales < Avarage_Sales < High_Sales]\n"
     ]
    }
   ],
   "source": [
    "print(y_pred[0:6])\n",
    "print(y_test[0:6])"
   ]
  },
  {
   "cell_type": "code",
   "execution_count": 47,
   "metadata": {
    "colab": {
     "base_uri": "https://localhost:8080/"
    },
    "id": "uaMXj0Iu3fwj",
    "outputId": "af4b9523-c022-482b-fd76-d9e45f20c7ae"
   },
   "outputs": [
    {
     "name": "stdout",
     "output_type": "stream",
     "text": [
      "DecisionTrees's Accuracy for Global sales Prediction:  1.0\n"
     ]
    }
   ],
   "source": [
    "from sklearn import metrics\n",
    "import matplotlib.pyplot as plt\n",
    "print(\"DecisionTrees's Accuracy for Global sales Prediction: \", metrics.accuracy_score(y_test, y_pred))\n"
   ]
  },
  {
   "cell_type": "code",
   "execution_count": 48,
   "metadata": {
    "colab": {
     "base_uri": "https://localhost:8080/"
    },
    "id": "Ci07MWI03fwl",
    "outputId": "08ff9d81-a086-41cf-faec-4c5a746c038f"
   },
   "outputs": [
    {
     "name": "stdout",
     "output_type": "stream",
     "text": [
      "report of decision tree GLOBAL SALES : \n",
      "                precision    recall  f1-score   support\n",
      "\n",
      "Avarage_Sales       1.00      1.00      1.00      1362\n",
      "   High_Sales       1.00      1.00      1.00        19\n",
      "    Low_Sales       1.00      1.00      1.00      3581\n",
      "\n",
      "     accuracy                           1.00      4962\n",
      "    macro avg       1.00      1.00      1.00      4962\n",
      " weighted avg       1.00      1.00      1.00      4962\n",
      "\n"
     ]
    }
   ],
   "source": [
    "print(\"report of decision tree GLOBAL SALES : \\n\", metrics.classification_report(y_test , y_pred))\n"
   ]
  },
  {
   "cell_type": "markdown",
   "metadata": {
    "id": "LiXBzuom3fwm"
   },
   "source": [
    "<p><h3 style=\"font-family: 'Roboto', sans-serif;color:#2e2a6b;\">DECISION TREE CLASSIFIER - NA SALES</h3></p>\n"
   ]
  },
  {
   "cell_type": "code",
   "execution_count": 49,
   "metadata": {
    "id": "RTers-Ic3fwn"
   },
   "outputs": [],
   "source": [
    "y = dataframe['Sales_Category_NA'].values"
   ]
  },
  {
   "cell_type": "code",
   "execution_count": 50,
   "metadata": {
    "id": "d4u_V5LQ3fwo"
   },
   "outputs": [],
   "source": [
    "from sklearn.model_selection import train_test_split\n",
    "X_train, X_test, y_train, y_test = train_test_split(X, y, test_size = 0.3, random_state = 0)"
   ]
  },
  {
   "cell_type": "code",
   "execution_count": 51,
   "metadata": {
    "id": "ntTFgFVh3fwp"
   },
   "outputs": [],
   "source": [
    "from sklearn.tree import DecisionTreeClassifier"
   ]
  },
  {
   "cell_type": "code",
   "execution_count": 52,
   "metadata": {
    "colab": {
     "base_uri": "https://localhost:8080/"
    },
    "id": "3ZZEiGB63fwq",
    "outputId": "ca0a86a0-4ba9-4c3f-dd5d-38bd01d6c374"
   },
   "outputs": [
    {
     "data": {
      "text/plain": [
       "DecisionTreeClassifier(ccp_alpha=0.0, class_weight=None, criterion='entropy',\n",
       "                       max_depth=4, max_features=None, max_leaf_nodes=None,\n",
       "                       min_impurity_decrease=0.0, min_impurity_split=None,\n",
       "                       min_samples_leaf=1, min_samples_split=2,\n",
       "                       min_weight_fraction_leaf=0.0, presort='deprecated',\n",
       "                       random_state=None, splitter='best')"
      ]
     },
     "execution_count": 52,
     "metadata": {},
     "output_type": "execute_result"
    }
   ],
   "source": [
    "salestree = DecisionTreeClassifier(criterion=\"entropy\", max_depth = 4)\n",
    "salestree # it shows the default parameters"
   ]
  },
  {
   "cell_type": "code",
   "execution_count": 53,
   "metadata": {
    "colab": {
     "base_uri": "https://localhost:8080/"
    },
    "id": "EEeR8c3B3fws",
    "outputId": "e34f7051-9fb4-4b81-c18d-f68dcff84b53"
   },
   "outputs": [
    {
     "data": {
      "text/plain": [
       "DecisionTreeClassifier(ccp_alpha=0.0, class_weight=None, criterion='entropy',\n",
       "                       max_depth=4, max_features=None, max_leaf_nodes=None,\n",
       "                       min_impurity_decrease=0.0, min_impurity_split=None,\n",
       "                       min_samples_leaf=1, min_samples_split=2,\n",
       "                       min_weight_fraction_leaf=0.0, presort='deprecated',\n",
       "                       random_state=None, splitter='best')"
      ]
     },
     "execution_count": 53,
     "metadata": {},
     "output_type": "execute_result"
    }
   ],
   "source": [
    "salestree.fit(X_train,y_train)"
   ]
  },
  {
   "cell_type": "code",
   "execution_count": 54,
   "metadata": {
    "id": "KNfgU_Ra3fwv"
   },
   "outputs": [],
   "source": [
    "train_set.append(salestree.score(X_train, y_train))\n",
    "test_set.append(salestree.score(X_test, y_test))"
   ]
  },
  {
   "cell_type": "code",
   "execution_count": 55,
   "metadata": {
    "id": "iInVaDW03fwx"
   },
   "outputs": [],
   "source": [
    "y_pred = salestree.predict(X_test)"
   ]
  },
  {
   "cell_type": "code",
   "execution_count": 56,
   "metadata": {
    "colab": {
     "base_uri": "https://localhost:8080/"
    },
    "id": "7rJkBmfe3fw0",
    "outputId": "cb4e6b3e-09dd-45ac-ad21-c52084ffeb39"
   },
   "outputs": [
    {
     "name": "stdout",
     "output_type": "stream",
     "text": [
      "['Low_Sales' 'Low_Sales' 'Low_Sales' 'Avarage_Sales' 'Low_Sales'\n",
      " 'Low_Sales']\n",
      "[Low_Sales, Low_Sales, Low_Sales, Avarage_Sales, Low_Sales, Low_Sales]\n",
      "Categories (3, object): [Low_Sales < Avarage_Sales < High_Sales]\n"
     ]
    }
   ],
   "source": [
    "print(y_pred[0:6])\n",
    "print(y_test[0:6])"
   ]
  },
  {
   "cell_type": "code",
   "execution_count": 57,
   "metadata": {
    "colab": {
     "base_uri": "https://localhost:8080/"
    },
    "id": "YbG16IUp3fw1",
    "outputId": "29bf4fdf-6b8b-4a56-eb06-9d1c73eb114a"
   },
   "outputs": [
    {
     "name": "stdout",
     "output_type": "stream",
     "text": [
      "DecisionTrees's Accuracy for NA sales Prediction:  0.9195888754534461\n"
     ]
    }
   ],
   "source": [
    "from sklearn import metrics\n",
    "import matplotlib.pyplot as plt\n",
    "print(\"DecisionTrees's Accuracy for NA sales Prediction: \", metrics.accuracy_score(y_test, y_pred))\n"
   ]
  },
  {
   "cell_type": "code",
   "execution_count": 58,
   "metadata": {
    "colab": {
     "base_uri": "https://localhost:8080/"
    },
    "id": "IE0UQV-U3fw3",
    "outputId": "54515fdf-3c09-494c-aff3-b79dd67004ce"
   },
   "outputs": [
    {
     "name": "stdout",
     "output_type": "stream",
     "text": [
      "report of decision tree NA SALES : \n",
      "                precision    recall  f1-score   support\n",
      "\n",
      "Avarage_Sales       0.74      0.90      0.81       957\n",
      "   High_Sales       0.80      0.71      0.75        17\n",
      "    Low_Sales       0.98      0.93      0.95      3988\n",
      "\n",
      "     accuracy                           0.92      4962\n",
      "    macro avg       0.84      0.84      0.84      4962\n",
      " weighted avg       0.93      0.92      0.92      4962\n",
      "\n"
     ]
    }
   ],
   "source": [
    "print(\"report of decision tree NA SALES : \\n\", metrics.classification_report(y_test , y_pred))\n"
   ]
  },
  {
   "cell_type": "markdown",
   "metadata": {
    "id": "F5AV_cC23fw5"
   },
   "source": [
    "<p><h3 style=\"font-family: 'Roboto', sans-serif;color:#2e2a6b;\">DECISION TREE CLASSIFIER - EU SALES PREDICTION</h3></p>\n"
   ]
  },
  {
   "cell_type": "code",
   "execution_count": 59,
   "metadata": {
    "id": "k7UAlbgw3fw5"
   },
   "outputs": [],
   "source": [
    "y = dataframe['Sales_Category_EU'].values"
   ]
  },
  {
   "cell_type": "code",
   "execution_count": 60,
   "metadata": {
    "id": "qtdBFZ4h3fw6"
   },
   "outputs": [],
   "source": [
    "from sklearn.model_selection import train_test_split\n",
    "X_train, X_test, y_train, y_test = train_test_split(X, y, test_size = 0.3, random_state = 0)\n",
    "# controls randomness"
   ]
  },
  {
   "cell_type": "code",
   "execution_count": 61,
   "metadata": {
    "id": "urzDq_kw3fw8"
   },
   "outputs": [],
   "source": [
    "from sklearn.tree import DecisionTreeClassifier"
   ]
  },
  {
   "cell_type": "code",
   "execution_count": 62,
   "metadata": {
    "colab": {
     "base_uri": "https://localhost:8080/"
    },
    "id": "e-IuiTy23fw9",
    "outputId": "3683076f-3aef-4b7a-bf08-dbe82b4a699d"
   },
   "outputs": [
    {
     "data": {
      "text/plain": [
       "DecisionTreeClassifier(ccp_alpha=0.0, class_weight=None, criterion='entropy',\n",
       "                       max_depth=4, max_features=None, max_leaf_nodes=None,\n",
       "                       min_impurity_decrease=0.0, min_impurity_split=None,\n",
       "                       min_samples_leaf=1, min_samples_split=2,\n",
       "                       min_weight_fraction_leaf=0.0, presort='deprecated',\n",
       "                       random_state=None, splitter='best')"
      ]
     },
     "execution_count": 62,
     "metadata": {},
     "output_type": "execute_result"
    }
   ],
   "source": [
    "salestree = DecisionTreeClassifier(criterion=\"entropy\", max_depth = 4)\n",
    "salestree # it shows the default parameters"
   ]
  },
  {
   "cell_type": "code",
   "execution_count": 63,
   "metadata": {
    "colab": {
     "base_uri": "https://localhost:8080/"
    },
    "id": "48kB9DBc3fw-",
    "outputId": "791f34e4-d32b-448d-cd8c-09ef8aa45332"
   },
   "outputs": [
    {
     "data": {
      "text/plain": [
       "DecisionTreeClassifier(ccp_alpha=0.0, class_weight=None, criterion='entropy',\n",
       "                       max_depth=4, max_features=None, max_leaf_nodes=None,\n",
       "                       min_impurity_decrease=0.0, min_impurity_split=None,\n",
       "                       min_samples_leaf=1, min_samples_split=2,\n",
       "                       min_weight_fraction_leaf=0.0, presort='deprecated',\n",
       "                       random_state=None, splitter='best')"
      ]
     },
     "execution_count": 63,
     "metadata": {},
     "output_type": "execute_result"
    }
   ],
   "source": [
    "salestree.fit(X_train,y_train)"
   ]
  },
  {
   "cell_type": "code",
   "execution_count": 64,
   "metadata": {
    "id": "zqMsjVt53fw-"
   },
   "outputs": [],
   "source": [
    "y_pred = salestree.predict(X_test)"
   ]
  },
  {
   "cell_type": "code",
   "execution_count": 65,
   "metadata": {
    "id": "pQa1-Oh93fxA"
   },
   "outputs": [],
   "source": [
    "train_set.append(salestree.score(X_train, y_train))\n",
    "test_set.append(salestree.score(X_test, y_test))"
   ]
  },
  {
   "cell_type": "code",
   "execution_count": 66,
   "metadata": {
    "colab": {
     "base_uri": "https://localhost:8080/"
    },
    "id": "Ws1-IaNV3fxA",
    "outputId": "fa573f0c-b1cd-4bb0-8fd0-17847803fb6a"
   },
   "outputs": [
    {
     "name": "stdout",
     "output_type": "stream",
     "text": [
      "['Low_Sales' 'Low_Sales' 'Low_Sales' 'Avarage_Sales' 'Low_Sales'\n",
      " 'Low_Sales']\n",
      "[Low_Sales, Low_Sales, Low_Sales, Avarage_Sales, Low_Sales, Low_Sales]\n",
      "Categories (3, object): [Low_Sales < Avarage_Sales < High_Sales]\n"
     ]
    }
   ],
   "source": [
    "print(y_pred[0:6])\n",
    "print(y_test[0:6])"
   ]
  },
  {
   "cell_type": "code",
   "execution_count": 67,
   "metadata": {
    "colab": {
     "base_uri": "https://localhost:8080/"
    },
    "id": "uukp9w0M3fxB",
    "outputId": "0c40ff3c-76d6-4c8f-a215-b9b5ebe16883"
   },
   "outputs": [
    {
     "name": "stdout",
     "output_type": "stream",
     "text": [
      "DecisionTrees's Accuracy for EU sales Prediction:  0.9066908504635228\n"
     ]
    }
   ],
   "source": [
    "from sklearn import metrics\n",
    "import matplotlib.pyplot as plt\n",
    "print(\"DecisionTrees's Accuracy for EU sales Prediction: \", metrics.accuracy_score(y_test, y_pred))\n"
   ]
  },
  {
   "cell_type": "code",
   "execution_count": 68,
   "metadata": {
    "colab": {
     "base_uri": "https://localhost:8080/"
    },
    "id": "Gnp8o6CW3fxB",
    "outputId": "87a95877-7660-486c-c0f3-04d1195364af"
   },
   "outputs": [
    {
     "name": "stdout",
     "output_type": "stream",
     "text": [
      "report of decision tree EU SALES : \n",
      "                precision    recall  f1-score   support\n",
      "\n",
      "Avarage_Sales       0.78      0.81      0.79      1099\n",
      "    Low_Sales       0.95      0.93      0.94      3863\n",
      "\n",
      "     accuracy                           0.91      4962\n",
      "    macro avg       0.86      0.87      0.87      4962\n",
      " weighted avg       0.91      0.91      0.91      4962\n",
      "\n"
     ]
    }
   ],
   "source": [
    "print(\"report of decision tree EU SALES : \\n\", metrics.classification_report(y_test , y_pred))\n"
   ]
  },
  {
   "cell_type": "code",
   "execution_count": 69,
   "metadata": {
    "colab": {
     "base_uri": "https://localhost:8080/",
     "height": 299
    },
    "id": "W1z3wuIb3fxD",
    "outputId": "30b8b8fe-048a-43ea-f52f-e02536ae68a6"
   },
   "outputs": [
    {
     "data": {
      "text/plain": [
       "[<matplotlib.lines.Line2D at 0x1d6d946f208>]"
      ]
     },
     "execution_count": 69,
     "metadata": {},
     "output_type": "execute_result"
    },
    {
     "data": {
      "image/png": "[encoded data removed]",
      "text/plain": [
       "<Figure size 432x288 with 1 Axes>"
      ]
     },
     "metadata": {
      "needs_background": "light"
     },
     "output_type": "display_data"
    }
   ],
   "source": [
    "plt.title('Train vs Test')\n",
    "plt.plot(algo, train_set, color='black',label='train data')\n",
    "plt.plot(algo, test_set, color='red', label='test data')"
   ]
  },
  {
   "cell_type": "code",
   "execution_count": 70,
   "metadata": {
    "colab": {
     "base_uri": "https://localhost:8080/",
     "height": 265
    },
    "id": "jOBLGQWm3fxD",
    "outputId": "c3d61ce3-4b63-4475-b615-cfd3a0b44e05"
   },
   "outputs": [
    {
     "data": {
      "image/png": "[encoded data removed]",
      "text/plain": [
       "<Figure size 432x288 with 1 Axes>"
      ]
     },
     "metadata": {
      "needs_background": "light"
     },
     "output_type": "display_data"
    }
   ],
   "source": [
    "index = algo\n",
    "df = pd.DataFrame({'TRAIN': train_set,\n",
    "                   'TEST': test_set}, index=index)\n",
    "ax = df.plot.barh()"
   ]
  },
  {
   "cell_type": "markdown",
   "metadata": {
    "id": "t_9MR1uR3fxE"
   },
   "source": [
    "<p><h3 style=\"font-family: 'Roboto', sans-serif;color:#2e2a6b;\">REGRESSION ALGORITHMS - PREDICTING CONTINUOUS VALUE FOR GLOBAL SALES</h3></p>\n",
    "It uses a decision tree to go from observations about an item to conclusions about the item's target value. \n"
   ]
  },
  {
   "cell_type": "code",
   "execution_count": 71,
   "metadata": {
    "id": "DiCyS6FX3fxH"
   },
   "outputs": [],
   "source": [
    "algo = ['TreeReg', 'LinReg']\n",
    "train_set=[]\n",
    "test_set=[]"
   ]
  },
  {
   "cell_type": "markdown",
   "metadata": {
    "id": "ryET1qUj3fxH"
   },
   "source": [
    "<p><h3 style=\"font-family: 'Roboto', sans-serif;color:#2e2a6b;\">PREDICTION WITH DECISION TREE REGRESSER</h3></p>\n"
   ]
  },
  {
   "cell_type": "code",
   "execution_count": 72,
   "metadata": {
    "id": "CFwT9Qjg3fxI"
   },
   "outputs": [],
   "source": [
    "X = dataframe.iloc[:, 7:10]\n",
    "\n",
    "y = dataframe['Global_Sales'].values"
   ]
  },
  {
   "cell_type": "code",
   "execution_count": 73,
   "metadata": {
    "id": "UT43uTib3fxI"
   },
   "outputs": [],
   "source": [
    "from sklearn.model_selection import train_test_split\n",
    "from sklearn.metrics import r2_score\n",
    "X_train, X_test, y_train, y_test = train_test_split(X, y, test_size = 0.3, random_state = 0)"
   ]
  },
  {
   "cell_type": "code",
   "execution_count": 74,
   "metadata": {
    "id": "TmuwOiph3fxJ"
   },
   "outputs": [],
   "source": [
    "from sklearn.tree import DecisionTreeRegressor\n",
    "dtr = DecisionTreeRegressor(random_state = 0)\n",
    "dtr.fit(X_train, y_train)\n",
    "y_preddtr = dtr.predict(X_test)\n"
   ]
  },
  {
   "cell_type": "code",
   "execution_count": 75,
   "metadata": {
    "id": "LqXQm3sJ3fxK"
   },
   "outputs": [],
   "source": [
    "train_set.append(dtr.score(X_train, y_train))\n",
    "test_set.append(dtr.score(X_test, y_test))"
   ]
  },
  {
   "cell_type": "code",
   "execution_count": 76,
   "metadata": {
    "colab": {
     "base_uri": "https://localhost:8080/"
    },
    "id": "Sd6lDC6e3fxL",
    "outputId": "c90340a2-d777-49b7-f057-59db86598c3c"
   },
   "outputs": [
    {
     "name": "stdout",
     "output_type": "stream",
     "text": [
      "Training Accuracy : 0.9932034309576397\n",
      "Testing Accuracy : 0.7488245328868401\n",
      "0.7488245328868401\n"
     ]
    }
   ],
   "source": [
    "print(\"Training Accuracy :\", dtr.score(X_train, y_train))\n",
    "print(\"Testing Accuracy :\", dtr.score(X_test, y_test))\n",
    "print(r2_score(y_test,y_preddtr))"
   ]
  },
  {
   "cell_type": "markdown",
   "metadata": {
    "id": "zwRkknEz3fxM"
   },
   "source": [
    "<p><h3 style=\"font-family: 'Roboto', sans-serif;color:#2e2a6b;\">PREDICTION WITH LINEAR REGRESSION</h3></p>\n"
   ]
  },
  {
   "cell_type": "code",
   "execution_count": 77,
   "metadata": {
    "id": "JwnJ3jZD3fxM"
   },
   "outputs": [],
   "source": [
    "#Hierarchical Clustering Model\n",
    "from sklearn.linear_model import LinearRegression\n",
    "lr = LinearRegression()\n",
    "lr = lr.fit(X_train, y_train)\n",
    "y_predlr = lr.predict(X_test)"
   ]
  },
  {
   "cell_type": "code",
   "execution_count": 78,
   "metadata": {
    "id": "lua2iqai3fxO"
   },
   "outputs": [],
   "source": [
    "train_set.append(lr.score(X_train, y_train))\n",
    "test_set.append(lr.score(X_test, y_test))\n"
   ]
  },
  {
   "cell_type": "code",
   "execution_count": 79,
   "metadata": {
    "colab": {
     "base_uri": "https://localhost:8080/"
    },
    "id": "e1KJ-O1n3fxO",
    "outputId": "27efc873-c651-4f22-a683-55c4c72ee73c"
   },
   "outputs": [
    {
     "name": "stdout",
     "output_type": "stream",
     "text": [
      "Training Accuracy : 0.9102045018888574\n",
      "Testing Accuracy : 0.846397012788343\n",
      "0.846397012788343\n"
     ]
    }
   ],
   "source": [
    "print(\"Training Accuracy :\", lr.score(X_train, y_train))\n",
    "print(\"Testing Accuracy :\", lr.score(X_test, y_test))\n",
    "print(r2_score(y_test,y_predlr))"
   ]
  },
  {
   "cell_type": "code",
   "execution_count": 80,
   "metadata": {
    "colab": {
     "base_uri": "https://localhost:8080/",
     "height": 298
    },
    "id": "LO99AILj3fxP",
    "outputId": "b58b35a8-2268-4b83-aeb0-d42b8dd0a793"
   },
   "outputs": [
    {
     "data": {
      "text/plain": [
       "[<matplotlib.lines.Line2D at 0x1d6d9bc6fc8>]"
      ]
     },
     "execution_count": 80,
     "metadata": {},
     "output_type": "execute_result"
    },
    {
     "data": {
      "image/png": "[encoded data removed]",
      "text/plain": [
       "<Figure size 432x288 with 1 Axes>"
      ]
     },
     "metadata": {
      "needs_background": "light"
     },
     "output_type": "display_data"
    }
   ],
   "source": [
    "plt.title('Train vs Test')\n",
    "plt.plot(algo, train_set,color='black',label='train data')\n",
    "plt.plot(algo, test_set,color='red', label='test data')"
   ]
  },
  {
   "cell_type": "code",
   "execution_count": 81,
   "metadata": {
    "colab": {
     "base_uri": "https://localhost:8080/",
     "height": 265
    },
    "id": "FXv8RMIo3fxP",
    "outputId": "fc2bf859-fdf4-49e7-ee00-949562104ed3"
   },
   "outputs": [
    {
     "data": {
      "image/png": "[encoded data removed]",
      "text/plain": [
       "<Figure size 432x288 with 1 Axes>"
      ]
     },
     "metadata": {
      "needs_background": "light"
     },
     "output_type": "display_data"
    }
   ],
   "source": [
    "index = algo\n",
    "df = pd.DataFrame({'TRAIN': train_set,\n",
    "                   'TEST': test_set}, index=index)\n",
    "ax = df.plot.barh()"
   ]
  },
  {
   "cell_type": "code",
   "execution_count": 82,
   "metadata": {
    "colab": {
     "base_uri": "https://localhost:8080/",
     "height": 311
    },
    "id": "wVuI-vFZ3fxQ",
    "outputId": "99bbcafd-9147-4a74-ae18-6f4e89485d0d"
   },
   "outputs": [
    {
     "data": {
      "image/png": "[encoded data removed]",
      "text/plain": [
       "<Figure size 432x288 with 1 Axes>"
      ]
     },
     "metadata": {
      "needs_background": "light"
     },
     "output_type": "display_data"
    }
   ],
   "source": [
    "import seaborn as sns\n",
    "#Plot top 10 games that most selled in global.\n",
    "games = dataframe.groupby('Name')['Global_Sales'].count().sort_values(ascending = False).head(10)\n",
    "sns.barplot(x=games.values,y=games.index, palette='YlGn_r')\n",
    "plt.xlabel('Global Sales')\n",
    "plt.ylabel('Game Names')\n",
    "plt.title('Top 10 Games Contribute Global Sales', pad=20, fontsize=15)\n",
    "plt.show()"
   ]
  },
  {
   "cell_type": "code",
   "execution_count": 83,
   "metadata": {
    "colab": {
     "base_uri": "https://localhost:8080/",
     "height": 311
    },
    "id": "Xmm5GWRu3fxR",
    "outputId": "be47ab6c-c658-46b3-b00d-84a852914c58"
   },
   "outputs": [
    {
     "data": {
      "image/png": "[encoded data removed]",
      "text/plain": [
       "<Figure size 432x288 with 1 Axes>"
      ]
     },
     "metadata": {
      "needs_background": "light"
     },
     "output_type": "display_data"
    }
   ],
   "source": [
    "#Plot top 10 games that most selled in global.\n",
    "\n",
    "games=dataframe.groupby('Name')['Global_Sales'].count().sort_values(ascending = False).head(10)\n",
    "\n",
    "my_range=range(0,len(games.index))\n",
    "\n",
    "plt.hlines(y=games.index, xmin=0, xmax=games.values, color='green')\n",
    "plt.plot(games.values, my_range, \"o\")\n",
    "\n",
    "plt.xlabel('Global Sales')\n",
    "plt.ylabel('Game Names')\n",
    "plt.title('Top 10 Games Contribute Global Sales', pad=20, fontsize=15)\n",
    "plt.show()"
   ]
  },
  {
   "cell_type": "code",
   "execution_count": 84,
   "metadata": {
    "colab": {
     "base_uri": "https://localhost:8080/",
     "height": 319
    },
    "id": "5Il52qXt3fxR",
    "outputId": "ab928168-5bdd-4e25-ab3e-092553d3f2b3"
   },
   "outputs": [
    {
     "data": {
      "image/png": "[encoded data removed]",
      "text/plain": [
       "<Figure size 432x288 with 1 Axes>"
      ]
     },
     "metadata": {
      "needs_background": "light"
     },
     "output_type": "display_data"
    }
   ],
   "source": [
    "#Plot 10 publisher that most contribute to global sales. The best one is Electronic Art publisher.\n",
    "contri = dataframe.groupby('Publisher')['Global_Sales'].count().sort_values(ascending=False).head(10)\n",
    "\n",
    "my_range=range(0,len(contri.index))\n",
    "\n",
    "plt.hlines(y=contri.index, xmin=0, xmax=contri.values, color='red')\n",
    "plt.plot(contri.values, my_range, \"o\")\n",
    "\n",
    "plt.xlabel('Global Sales')\n",
    "plt.title('Top 10 Publisher Contribute Global Sales', pad=25, fontsize=20)\n",
    "plt.show()"
   ]
  },
  {
   "cell_type": "markdown",
   "metadata": {
    "id": "ebxd0IceGHKy"
   },
   "source": [
    "<p><h3 style=\"font-family: 'Roboto', sans-serif;color:#2e2a6b;\">DECISION TREE CLASSIFICATINWITH MULTIPLE TARGET CATEGORIES</h3></p>\n",
    "\n"
   ]
  },
  {
   "cell_type": "code",
   "execution_count": 85,
   "metadata": {
    "colab": {
     "base_uri": "https://localhost:8080/"
    },
    "id": "KBRXH5HrDRpd",
    "outputId": "59eed4e7-67d0-4d48-d51d-17e207e3b0d1"
   },
   "outputs": [
    {
     "name": "stdout",
     "output_type": "stream",
     "text": [
      "Binning - Prediction with higher categorical value created by binning\n"
     ]
    }
   ],
   "source": [
    "print(\"Binning - Prediction with higher categorical value created by binning\")"
   ]
  },
  {
   "cell_type": "code",
   "execution_count": 86,
   "metadata": {
    "colab": {
     "base_uri": "https://localhost:8080/"
    },
    "id": "GTCgqq4J9LhT",
    "outputId": "089418be-87d9-4e48-e57c-d794c592f002"
   },
   "outputs": [
    {
     "name": "stdout",
     "output_type": "stream",
     "text": [
      "Binning Trial\n"
     ]
    },
    {
     "data": {
      "text/plain": [
       "<bound method IndexOpsMixin.value_counts of 0        very high\n",
       "1             high\n",
       "2             high\n",
       "3             high\n",
       "4             high\n",
       "           ...    \n",
       "16593     very low\n",
       "16594     very low\n",
       "16595     very low\n",
       "16596     very low\n",
       "16597     very low\n",
       "Name: Multicat_GS, Length: 16540, dtype: category\n",
       "Categories (5, object): [very low < low < avarage < high < very high]>"
      ]
     },
     "execution_count": 86,
     "metadata": {},
     "output_type": "execute_result"
    }
   ],
   "source": [
    "print(\"Binning Trial\")\n",
    "bin = [0.001,1,10,30,55,np.inf]\n",
    "tags = ['very low','low',\"avarage\",'high','very high']\n",
    "dataframe['Multicat_GS'] = pd.cut(dataframe['Global_Sales'],bin,labels=tags)\n",
    "dataframe['Multicat_GS'].value_counts"
   ]
  },
  {
   "cell_type": "code",
   "execution_count": 87,
   "metadata": {
    "id": "ouJKPJPfEpSe"
   },
   "outputs": [],
   "source": [
    "#Make cluster data\n",
    "X = dataframe[['Rank','Genre','Platform','Publisher','Year']].values"
   ]
  },
  {
   "cell_type": "code",
   "execution_count": 88,
   "metadata": {
    "id": "eynE_K-EEpSn",
    "scrolled": false
   },
   "outputs": [],
   "source": [
    "gen = dataframe[\"Genre\"].unique()\n",
    "gen = list(gen)\n",
    "pltf = dataframe[\"Platform\"].unique()\n",
    "pltf = list(pltf)\n",
    "pub = dataframe[\"Publisher\"].unique()\n",
    "pub = list(pub)"
   ]
  },
  {
   "cell_type": "markdown",
   "metadata": {
    "id": "nV47zCVsEpSp"
   },
   "source": [
    "<p><h3 style=\"font-family: 'Roboto', sans-serif;color:#2e2a6b;\">ENCODING VALUES FOR X</h3></p>\n",
    "\n"
   ]
  },
  {
   "cell_type": "code",
   "execution_count": 89,
   "metadata": {
    "colab": {
     "base_uri": "https://localhost:8080/"
    },
    "id": "hQLwvYawEpSq",
    "outputId": "56c9a2e4-1421-479c-8048-1e00143f0743"
   },
   "outputs": [
    {
     "data": {
      "text/plain": [
       "array([[1, 10, 26, 359, 2006.0],\n",
       "       [2, 4, 11, 359, 1985.0],\n",
       "       [3, 6, 26, 359, 2008.0],\n",
       "       [4, 10, 26, 359, 2009.0],\n",
       "       [5, 7, 5, 359, 1996.0]], dtype=object)"
      ]
     },
     "execution_count": 89,
     "metadata": {},
     "output_type": "execute_result"
    }
   ],
   "source": [
    "\n",
    "from sklearn import preprocessing\n",
    "\n",
    "le_genre = preprocessing.LabelEncoder()\n",
    "le_genre.fit(gen)\n",
    "X[:,1] = le_genre.transform(X[:,1]) \n",
    "\n",
    "\n",
    "le_pltf = preprocessing.LabelEncoder()\n",
    "le_pltf.fit(pltf)\n",
    "X[:,2] = le_pltf.transform(X[:,2])\n",
    "\n",
    "\n",
    "le_pub = preprocessing.LabelEncoder()\n",
    "le_pub.fit(pub)\n",
    "X[:,3] = le_pub.transform(X[:,3]) \n",
    "\n",
    "X[0:5]\n"
   ]
  },
  {
   "cell_type": "code",
   "execution_count": 90,
   "metadata": {
    "id": "qbN9xBgcBdQT"
   },
   "outputs": [],
   "source": [
    "# target value\n",
    "y = dataframe['Multicat_GS'].values"
   ]
  },
  {
   "cell_type": "code",
   "execution_count": 91,
   "metadata": {
    "id": "MIHK4wIXBdQj"
   },
   "outputs": [],
   "source": [
    "# training testing dataset\n",
    "from sklearn.model_selection import train_test_split\n",
    "X_train, X_test, y_train, y_test = train_test_split(X, y, test_size = 0.3, random_state = 0)"
   ]
  },
  {
   "cell_type": "code",
   "execution_count": 92,
   "metadata": {
    "id": "r-0x-5ghBdQk"
   },
   "outputs": [],
   "source": [
    "from sklearn.tree import DecisionTreeClassifier"
   ]
  },
  {
   "cell_type": "code",
   "execution_count": 93,
   "metadata": {
    "colab": {
     "base_uri": "https://localhost:8080/"
    },
    "id": "JsW15jSCBdQl",
    "outputId": "27f3d12e-7487-4ec6-cfb0-f675ac144dc4"
   },
   "outputs": [
    {
     "data": {
      "text/plain": [
       "DecisionTreeClassifier(ccp_alpha=0.0, class_weight=None, criterion='entropy',\n",
       "                       max_depth=4, max_features=None, max_leaf_nodes=None,\n",
       "                       min_impurity_decrease=0.0, min_impurity_split=None,\n",
       "                       min_samples_leaf=1, min_samples_split=2,\n",
       "                       min_weight_fraction_leaf=0.0, presort='deprecated',\n",
       "                       random_state=None, splitter='best')"
      ]
     },
     "execution_count": 93,
     "metadata": {},
     "output_type": "execute_result"
    }
   ],
   "source": [
    "salestree = DecisionTreeClassifier(criterion=\"entropy\", max_depth = 4)\n",
    "salestree # it shows the default parameters"
   ]
  },
  {
   "cell_type": "code",
   "execution_count": 94,
   "metadata": {
    "colab": {
     "base_uri": "https://localhost:8080/"
    },
    "id": "cOWvzpFTBdQn",
    "outputId": "fc66bd28-78b1-418b-e72e-9ff65bde65a4"
   },
   "outputs": [
    {
     "data": {
      "text/plain": [
       "DecisionTreeClassifier(ccp_alpha=0.0, class_weight=None, criterion='entropy',\n",
       "                       max_depth=4, max_features=None, max_leaf_nodes=None,\n",
       "                       min_impurity_decrease=0.0, min_impurity_split=None,\n",
       "                       min_samples_leaf=1, min_samples_split=2,\n",
       "                       min_weight_fraction_leaf=0.0, presort='deprecated',\n",
       "                       random_state=None, splitter='best')"
      ]
     },
     "execution_count": 94,
     "metadata": {},
     "output_type": "execute_result"
    }
   ],
   "source": [
    "# fitting trainning testing\n",
    "salestree.fit(X_train,y_train)\n"
   ]
  },
  {
   "cell_type": "code",
   "execution_count": 95,
   "metadata": {
    "id": "aJV3wOxhBdQp"
   },
   "outputs": [],
   "source": [
    "# preparing prediction tree\n",
    "y_pred = salestree.predict(X_test)"
   ]
  },
  {
   "cell_type": "code",
   "execution_count": 96,
   "metadata": {
    "colab": {
     "base_uri": "https://localhost:8080/"
    },
    "id": "yxfi16OXBdQq",
    "outputId": "b1bf2f68-26ce-4693-9886-3e4ee9e93771"
   },
   "outputs": [
    {
     "name": "stdout",
     "output_type": "stream",
     "text": [
      "['very low' 'very low' 'very low' 'very low' 'very low' 'very low']\n",
      "[very low, very low, very low, very low, very low, very low]\n",
      "Categories (5, object): [very low < low < avarage < high < very high]\n"
     ]
    }
   ],
   "source": [
    "print(y_pred[0:6])\n",
    "print(y_test[0:6])"
   ]
  },
  {
   "cell_type": "code",
   "execution_count": 97,
   "metadata": {
    "colab": {
     "base_uri": "https://localhost:8080/"
    },
    "id": "VfyFbJY7BdQq",
    "outputId": "e6200721-7234-4c8a-f195-44d675e4fde5"
   },
   "outputs": [
    {
     "name": "stdout",
     "output_type": "stream",
     "text": [
      "DecisionTrees's Accuracy for Global sales Prediction with 5 category:  0.9995969367190649\n"
     ]
    }
   ],
   "source": [
    "from sklearn import metrics\n",
    "import matplotlib.pyplot as plt\n",
    "print(\"DecisionTrees's Accuracy for Global sales Prediction with 5 category: \", metrics.accuracy_score(y_test, y_pred))\n"
   ]
  },
  {
   "cell_type": "code",
   "execution_count": 98,
   "metadata": {
    "colab": {
     "base_uri": "https://localhost:8080/"
    },
    "id": "I8vv9BHvGpoL",
    "outputId": "31bd19ff-5196-4085-81e9-92d54221dbd4"
   },
   "outputs": [
    {
     "name": "stdout",
     "output_type": "stream",
     "text": [
      "report of decision tree  Global sales Prediction with 5 category: : \n",
      "               precision    recall  f1-score   support\n",
      "\n",
      "     avarage       1.00      0.89      0.94        19\n",
      "        high       0.00      0.00      0.00         0\n",
      "         low       1.00      1.00      1.00       578\n",
      "    very low       1.00      1.00      1.00      4365\n",
      "\n",
      "    accuracy                           1.00      4962\n",
      "   macro avg       0.75      0.72      0.74      4962\n",
      "weighted avg       1.00      1.00      1.00      4962\n",
      "\n"
     ]
    },
    {
     "name": "stderr",
     "output_type": "stream",
     "text": [
      "C:\\Users\\Admin\\anaconda3\\lib\\site-packages\\sklearn\\metrics\\_classification.py:1272: UndefinedMetricWarning: Recall and F-score are ill-defined and being set to 0.0 in labels with no true samples. Use `zero_division` parameter to control this behavior.\n",
      "  _warn_prf(average, modifier, msg_start, len(result))\n"
     ]
    }
   ],
   "source": [
    "print(\"report of decision tree  Global sales Prediction with 5 category: : \\n\", metrics.classification_report(y_test , y_pred))\n"
   ]
  },
  {
   "cell_type": "code",
   "execution_count": 99,
   "metadata": {
    "id": "BF2DDnukG7DG"
   },
   "outputs": [
    {
     "name": "stdout",
     "output_type": "stream",
     "text": [
      "Requirement already satisfied: pydot in c:\\users\\admin\\anaconda3\\lib\\site-packages (1.4.1)\n",
      "Requirement already satisfied: pyparsing>=2.1.4 in c:\\users\\admin\\anaconda3\\lib\\site-packages (from pydot) (2.4.6)\n"
     ]
    }
   ],
   "source": [
    "!pip install pydot\n",
    "import pydotplus\n",
    "import pydot\n",
    "from six import StringIO\n",
    "from sklearn import tree\n",
    "import matplotlib.image as mpimg"
   ]
  },
  {
   "cell_type": "code",
   "execution_count": 100,
   "metadata": {},
   "outputs": [
    {
     "name": "stdout",
     "output_type": "stream",
     "text": [
      "Decision Tree Output\n"
     ]
    },
    {
     "data": {
      "text/plain": [
       "<matplotlib.image.AxesImage at 0x1d6d9e85488>"
      ]
     },
     "execution_count": 100,
     "metadata": {},
     "output_type": "execute_result"
    },
    {
     "data": {
      "image/png": "[encoded data removed]",
      "text/plain": [
       "<Figure size 1080x1080 with 1 Axes>"
      ]
     },
     "metadata": {
      "needs_background": "light"
     },
     "output_type": "display_data"
    }
   ],
   "source": [
    "print(\"Decision Tree Output\")\n",
    "dot_data = StringIO()\n",
    "filename = \"miniProject.png\"\n",
    "featureNames = [dataframe.columns[0],dataframe.columns[2],dataframe.columns[4],dataframe.columns[5],dataframe.columns[3]]\n",
    "targetNames = dataframe['Multicat_GS'].unique().tolist()\n",
    "out=tree.export_graphviz(salestree,feature_names=featureNames, out_file=dot_data, class_names= np.unique(y), filled=True,  special_characters=True,rotate=False)  \n",
    "graph = pydotplus.graph_from_dot_data(dot_data.getvalue())  \n",
    "graph.write_png(filename)\n",
    "img = mpimg.imread(filename)\n",
    "plt.figure(figsize=(15, 15))\n",
    "plt.imshow(img,interpolation='nearest')"
   ]
  },
  {
   "cell_type": "code",
   "execution_count": null,
   "metadata": {},
   "outputs": [],
   "source": []
  }
 ],
 "metadata": {
  "colab": {
   "collapsed_sections": [],
   "name": "DWDM mini project.ipynb",
   "provenance": []
  },
  "kernelspec": {
   "display_name": "Python 3",
   "language": "python",
   "name": "python3"
  },
  "language_info": {
   "codemirror_mode": {
    "name": "ipython",
    "version": 3
   },
   "file_extension": ".py",
   "mimetype": "text/x-python",
   "name": "python",
   "nbconvert_exporter": "python",
   "pygments_lexer": "ipython3",
   "version": "3.7.6"
  }
 },
 "nbformat": 4,
 "nbformat_minor": 1
}
